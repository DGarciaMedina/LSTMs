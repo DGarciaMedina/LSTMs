{
 "cells": [
  {
   "cell_type": "code",
   "execution_count": 1,
   "metadata": {},
   "outputs": [
    {
     "name": "stderr",
     "output_type": "stream",
     "text": [
      "Using TensorFlow backend.\n",
      "C:\\Program Files\\Anaconda3\\lib\\site-packages\\h5py\\__init__.py:34: FutureWarning: Conversion of the second argument of issubdtype from `float` to `np.floating` is deprecated. In future, it will be treated as `np.float64 == np.dtype(float).type`.\n",
      "  from ._conv import register_converters as _register_converters\n"
     ]
    }
   ],
   "source": [
    "# Load LSTM network and generate text\n",
    "import sys\n",
    "import numpy as np\n",
    "#import mxnet as mx\n",
    "from keras.models import Sequential\n",
    "from keras.layers import Dense\n",
    "from keras.layers import Dropout\n",
    "from keras.layers import CuDNNLSTM\n",
    "from keras.callbacks import ModelCheckpoint\n",
    "from keras.utils import np_utils\n",
    "from keras.utils import multi_gpu_model"
   ]
  },
  {
   "cell_type": "code",
   "execution_count": 2,
   "metadata": {
    "collapsed": true
   },
   "outputs": [],
   "source": [
    "# load ascii text and covert to lowercase\n",
    "filename = \"pride_and_prejudice.txt\"\n",
    "raw_text = open(filename).read()\n",
    "raw_text = raw_text.lower()"
   ]
  },
  {
   "cell_type": "code",
   "execution_count": 3,
   "metadata": {
    "collapsed": true
   },
   "outputs": [],
   "source": [
    "# create mapping of unique chars to integers\n",
    "chars = sorted(list(set(raw_text)))\n",
    "char_to_int = dict((c, i) for i, c in enumerate(chars))"
   ]
  },
  {
   "cell_type": "code",
   "execution_count": 4,
   "metadata": {},
   "outputs": [
    {
     "name": "stdout",
     "output_type": "stream",
     "text": [
      "Total Characters:  704175\n",
      "Total Vocab:  58\n"
     ]
    }
   ],
   "source": [
    "n_chars = len(raw_text)\n",
    "n_vocab = len(chars)\n",
    "print(\"Total Characters: \", n_chars)\n",
    "print(\"Total Vocab: \", n_vocab)"
   ]
  },
  {
   "cell_type": "code",
   "execution_count": 5,
   "metadata": {},
   "outputs": [
    {
     "name": "stdout",
     "output_type": "stream",
     "text": [
      "Total Patterns:  704145\n"
     ]
    }
   ],
   "source": [
    "# prepare the dataset of input to output pairs encoded as integers\n",
    "seq_length = 30\n",
    "dataX = []\n",
    "dataY = []\n",
    "for i in range(0, n_chars - seq_length, 1):\n",
    "    seq_in = raw_text[i:i + seq_length]\n",
    "    seq_out = raw_text[i + seq_length]\n",
    "    dataX.append([char_to_int[char] for char in seq_in])\n",
    "    dataY.append(char_to_int[seq_out])\n",
    "n_patterns = len(dataX)\n",
    "print (\"Total Patterns: \", n_patterns)"
   ]
  },
  {
   "cell_type": "code",
   "execution_count": 6,
   "metadata": {
    "collapsed": true
   },
   "outputs": [],
   "source": [
    "# reshape X to be [samples, time steps, features]\n",
    "X = np.reshape(dataX, (n_patterns, seq_length, 1))\n",
    "# normalize\n",
    "X = X / float(n_vocab)\n",
    "# one hot encode the output variable\n",
    "y = np_utils.to_categorical(dataY)"
   ]
  },
  {
   "cell_type": "code",
   "execution_count": 7,
   "metadata": {},
   "outputs": [],
   "source": [
    "model = Sequential()\n",
    "model.add(CuDNNLSTM(256, input_shape=(X.shape[1], X.shape[2]), return_sequences=True))\n",
    "model.add(Dropout(0.2))\n",
    "model.add(CuDNNLSTM(256))\n",
    "model.add(Dropout(0.2))\n",
    "model.add(Dense(y.shape[1], activation='softmax'))\n",
    "\n",
    "model.compile(loss='categorical_crossentropy', optimizer='adam')"
   ]
  },
  {
   "cell_type": "code",
   "execution_count": 8,
   "metadata": {
    "collapsed": true
   },
   "outputs": [],
   "source": [
    "# define the checkpoint\n",
    "filepath=\"weights-improvement-{epoch:02d}-{loss:.4f}.hdf5\"\n",
    "checkpoint = ModelCheckpoint(filepath, monitor='loss', verbose=1, save_best_only=True, mode='min')\n",
    "callbacks_list = [checkpoint]"
   ]
  },
  {
   "cell_type": "code",
   "execution_count": 9,
   "metadata": {},
   "outputs": [
    {
     "name": "stdout",
     "output_type": "stream",
     "text": [
      "Epoch 1/20\n",
      "704145/704145 [==============================] - 173s 246us/step - loss: 2.5178\n",
      "\n",
      "Epoch 00001: loss improved from inf to 2.51782, saving model to weights-improvement-01-2.5178.hdf5\n",
      "Epoch 2/20\n",
      "704145/704145 [==============================] - 169s 240us/step - loss: 2.0570\n",
      "\n",
      "Epoch 00002: loss improved from 2.51782 to 2.05704, saving model to weights-improvement-02-2.0570.hdf5\n",
      "Epoch 3/20\n",
      "704145/704145 [==============================] - 164s 233us/step - loss: 1.8775\n",
      "\n",
      "Epoch 00003: loss improved from 2.05704 to 1.87745, saving model to weights-improvement-03-1.8775.hdf5\n",
      "Epoch 4/20\n",
      "704145/704145 [==============================] - 162s 231us/step - loss: 1.7794\n",
      "\n",
      "Epoch 00004: loss improved from 1.87745 to 1.77936, saving model to weights-improvement-04-1.7794.hdf5\n",
      "Epoch 5/20\n",
      "704145/704145 [==============================] - 165s 235us/step - loss: 1.7151\n",
      "\n",
      "Epoch 00005: loss improved from 1.77936 to 1.71514, saving model to weights-improvement-05-1.7151.hdf5\n",
      "Epoch 6/20\n",
      "704145/704145 [==============================] - 169s 240us/step - loss: 1.6688\n",
      "\n",
      "Epoch 00006: loss improved from 1.71514 to 1.66883, saving model to weights-improvement-06-1.6688.hdf5\n",
      "Epoch 7/20\n",
      "704145/704145 [==============================] - 166s 236us/step - loss: 1.6324\n",
      "\n",
      "Epoch 00007: loss improved from 1.66883 to 1.63241, saving model to weights-improvement-07-1.6324.hdf5\n",
      "Epoch 8/20\n",
      "704145/704145 [==============================] - 167s 238us/step - loss: 1.6034\n",
      "\n",
      "Epoch 00008: loss improved from 1.63241 to 1.60341, saving model to weights-improvement-08-1.6034.hdf5\n",
      "Epoch 9/20\n",
      "704145/704145 [==============================] - 166s 236us/step - loss: 1.5783\n",
      "\n",
      "Epoch 00009: loss improved from 1.60341 to 1.57830, saving model to weights-improvement-09-1.5783.hdf5\n",
      "Epoch 10/20\n",
      "704145/704145 [==============================] - 167s 237us/step - loss: 1.5572\n",
      "\n",
      "Epoch 00010: loss improved from 1.57830 to 1.55725, saving model to weights-improvement-10-1.5572.hdf5\n",
      "Epoch 11/20\n",
      "704145/704145 [==============================] - 168s 239us/step - loss: 1.5389\n",
      "\n",
      "Epoch 00011: loss improved from 1.55725 to 1.53886, saving model to weights-improvement-11-1.5389.hdf5\n",
      "Epoch 12/20\n",
      "704145/704145 [==============================] - 166s 236us/step - loss: 1.5248\n",
      "\n",
      "Epoch 00012: loss improved from 1.53886 to 1.52481, saving model to weights-improvement-12-1.5248.hdf5\n",
      "Epoch 13/20\n",
      "704145/704145 [==============================] - 166s 235us/step - loss: 1.5101\n",
      "\n",
      "Epoch 00013: loss improved from 1.52481 to 1.51006, saving model to weights-improvement-13-1.5101.hdf5\n",
      "Epoch 14/20\n",
      "704145/704145 [==============================] - 167s 237us/step - loss: 1.4991\n",
      "\n",
      "Epoch 00014: loss improved from 1.51006 to 1.49912, saving model to weights-improvement-14-1.4991.hdf5\n",
      "Epoch 15/20\n",
      "704145/704145 [==============================] - 167s 237us/step - loss: 1.4861\n",
      "\n",
      "Epoch 00015: loss improved from 1.49912 to 1.48608, saving model to weights-improvement-15-1.4861.hdf5\n",
      "Epoch 16/20\n",
      "704145/704145 [==============================] - 171s 243us/step - loss: 1.4763\n",
      "\n",
      "Epoch 00016: loss improved from 1.48608 to 1.47630, saving model to weights-improvement-16-1.4763.hdf5\n",
      "Epoch 17/20\n",
      "704145/704145 [==============================] - 163s 231us/step - loss: 1.4677\n",
      "\n",
      "Epoch 00017: loss improved from 1.47630 to 1.46771, saving model to weights-improvement-17-1.4677.hdf5\n",
      "Epoch 18/20\n",
      "704145/704145 [==============================] - 162s 230us/step - loss: 1.4588\n",
      "\n",
      "Epoch 00018: loss improved from 1.46771 to 1.45883, saving model to weights-improvement-18-1.4588.hdf5\n",
      "Epoch 19/20\n",
      "704145/704145 [==============================] - 163s 232us/step - loss: 1.4508\n",
      "\n",
      "Epoch 00019: loss improved from 1.45883 to 1.45076, saving model to weights-improvement-19-1.4508.hdf5\n",
      "Epoch 20/20\n",
      "704145/704145 [==============================] - 163s 232us/step - loss: 1.4436\n",
      "\n",
      "Epoch 00020: loss improved from 1.45076 to 1.44364, saving model to weights-improvement-20-1.4436.hdf5\n"
     ]
    },
    {
     "data": {
      "text/plain": [
       "<keras.callbacks.History at 0x1e2c75a5ef0>"
      ]
     },
     "execution_count": 9,
     "metadata": {},
     "output_type": "execute_result"
    }
   ],
   "source": [
    "model.fit(X, y, epochs=20, batch_size=64, callbacks=callbacks_list)"
   ]
  }
 ],
 "metadata": {
  "kernelspec": {
   "display_name": "Python 3",
   "language": "python",
   "name": "python3"
  },
  "language_info": {
   "codemirror_mode": {
    "name": "ipython",
    "version": 3
   },
   "file_extension": ".py",
   "mimetype": "text/x-python",
   "name": "python",
   "nbconvert_exporter": "python",
   "pygments_lexer": "ipython3",
   "version": "3.6.1"
  }
 },
 "nbformat": 4,
 "nbformat_minor": 2
}
