{
 "cells": [
  {
   "cell_type": "code",
   "execution_count": 1,
   "metadata": {},
   "outputs": [
    {
     "name": "stderr",
     "output_type": "stream",
     "text": [
      "Using TensorFlow backend.\n",
      "C:\\Program Files\\Anaconda3\\lib\\site-packages\\h5py\\__init__.py:34: FutureWarning: Conversion of the second argument of issubdtype from `float` to `np.floating` is deprecated. In future, it will be treated as `np.float64 == np.dtype(float).type`.\n",
      "  from ._conv import register_converters as _register_converters\n"
     ]
    }
   ],
   "source": [
    "# Load Larger LSTM network and generate text\n",
    "import sys\n",
    "import numpy\n",
    "from keras.models import Sequential\n",
    "from keras.layers import Dense\n",
    "from keras.layers import Dropout\n",
    "from keras.layers import CuDNNLSTM\n",
    "from keras.callbacks import ModelCheckpoint\n",
    "from keras.utils import np_utils"
   ]
  },
  {
   "cell_type": "code",
   "execution_count": 2,
   "metadata": {},
   "outputs": [],
   "source": [
    "# load ascii text and covert to lowercase\n",
    "filename = \"pride_and_prejudice.txt\"\n",
    "raw_text = open(filename).read()\n",
    "raw_text = raw_text + open(\"hamlet.txt\").read()\n",
    "#raw_text = raw_text.lower()"
   ]
  },
  {
   "cell_type": "code",
   "execution_count": 3,
   "metadata": {},
   "outputs": [
    {
     "name": "stdout",
     "output_type": "stream",
     "text": [
      "Total Characters:  911214\n",
      "Total Vocab:  86\n",
      "Characters to int:\n",
      " {'\\n': 0, ' ': 1, '!': 2, '\"': 3, '#': 4, '$': 5, '%': 6, '&': 7, \"'\": 8, '(': 9, ')': 10, '*': 11, ',': 12, '-': 13, '.': 14, '/': 15, '0': 16, '1': 17, '2': 18, '3': 19, '4': 20, '5': 21, '6': 22, '7': 23, '8': 24, '9': 25, ':': 26, ';': 27, '?': 28, '@': 29, 'A': 30, 'B': 31, 'C': 32, 'D': 33, 'E': 34, 'F': 35, 'G': 36, 'H': 37, 'I': 38, 'J': 39, 'K': 40, 'L': 41, 'M': 42, 'N': 43, 'O': 44, 'P': 45, 'Q': 46, 'R': 47, 'S': 48, 'T': 49, 'U': 50, 'V': 51, 'W': 52, 'X': 53, 'Y': 54, 'Z': 55, '[': 56, ']': 57, '_': 58, 'a': 59, 'b': 60, 'c': 61, 'd': 62, 'e': 63, 'f': 64, 'g': 65, 'h': 66, 'i': 67, 'j': 68, 'k': 69, 'l': 70, 'm': 71, 'n': 72, 'o': 73, 'p': 74, 'q': 75, 'r': 76, 's': 77, 't': 78, 'u': 79, 'v': 80, 'w': 81, 'x': 82, 'y': 83, 'z': 84, '|': 85}\n"
     ]
    }
   ],
   "source": [
    "# create mapping of unique chars to integers, and a reverse mapping\n",
    "chars = sorted(list(set(raw_text)))\n",
    "char_to_int = dict((c, i) for i, c in enumerate(chars))\n",
    "int_to_char = dict((i, c) for i, c in enumerate(chars))\n",
    "# summarize the loaded data\n",
    "n_chars = len(raw_text)\n",
    "#n_vocab = len(chars)\n",
    "n_vocab = 86\n",
    "print (\"Total Characters: \", n_chars)\n",
    "print(\"Total Vocab: \", n_vocab)\n",
    "print(\"Characters to int:\\n\",char_to_int)"
   ]
  },
  {
   "cell_type": "code",
   "execution_count": 4,
   "metadata": {
    "collapsed": true
   },
   "outputs": [],
   "source": [
    "## prepare the dataset of input to output pairs encoded as integers\n",
    "#seq_length = 30\n",
    "#dataX = []\n",
    "#dataY = []\n",
    "#for i in range(0, n_chars - seq_length, 1):\n",
    "#    seq_in = raw_text[i:i + seq_length]\n",
    "#    seq_out = raw_text[i + seq_length]\n",
    "#    dataX.append([char_to_int[char] for char in seq_in])\n",
    "#    dataY.append(char_to_int[seq_out])"
   ]
  },
  {
   "cell_type": "code",
   "execution_count": 5,
   "metadata": {
    "collapsed": true
   },
   "outputs": [],
   "source": [
    "#n_patterns = len(dataX)\n",
    "#print(\"Total Patterns: \", n_patterns)\n",
    "## reshape X to be [samples, time steps, features]\n",
    "#X = numpy.reshape(dataX, (n_patterns, seq_length, 1))\n",
    "## normalize\n",
    "#X = X / float(n_vocab)\n",
    "## one hot encode the output variable\n",
    "#y = np_utils.to_categorical(dataY)"
   ]
  },
  {
   "cell_type": "code",
   "execution_count": 6,
   "metadata": {
    "collapsed": true
   },
   "outputs": [],
   "source": [
    "# define the LSTM model\n",
    "model = Sequential()\n",
    "model.add(CuDNNLSTM(256, input_shape=(30, 1), return_sequences=True))\n",
    "model.add(Dropout(0.2))\n",
    "model.add(CuDNNLSTM(256))\n",
    "model.add(Dropout(0.2))\n",
    "model.add(Dense(86, activation='softmax'))"
   ]
  },
  {
   "cell_type": "code",
   "execution_count": 7,
   "metadata": {},
   "outputs": [],
   "source": [
    "# load the network weights\n",
    "filename = \"weights-improvement-capital-cheat-20-1.5695.hdf5\"\n",
    "model.load_weights(filename)\n",
    "model.compile(loss='categorical_crossentropy', optimizer='adam')"
   ]
  },
  {
   "cell_type": "code",
   "execution_count": 8,
   "metadata": {
    "collapsed": true
   },
   "outputs": [],
   "source": [
    "## pick a random seed\n",
    "#start = numpy.random.randint(0, len(dataX)-1)\n",
    "#pattern = dataX[start]\n",
    "#print(\"Seed:\")\n",
    "#print (\"\\\"\", ''.join([int_to_char[value] for value in pattern]), \"\\\"\")"
   ]
  },
  {
   "cell_type": "code",
   "execution_count": 9,
   "metadata": {
    "collapsed": true
   },
   "outputs": [],
   "source": [
    "## generate characters\n",
    "#for i in range(1000):\n",
    "#    x = numpy.reshape(pattern, (1, len(pattern), 1))\n",
    "#    x = x / float(n_vocab)\n",
    "#    prediction = model.predict(x, verbose=0)\n",
    "#    index = numpy.argmax(prediction)\n",
    "#    result = int_to_char[index]\n",
    "#    seq_in = [int_to_char[value] for value in pattern]\n",
    "#    sys.stdout.write(result)\n",
    "#    pattern.append(index)\n",
    "#    pattern = pattern[1:len(pattern)]\n",
    "#print(\"\\nDone.\")"
   ]
  },
  {
   "cell_type": "code",
   "execution_count": 10,
   "metadata": {},
   "outputs": [
    {
     "name": "stdout",
     "output_type": "stream",
     "text": [
      "[63, 1, 59, 76, 63, 1, 78, 81, 73, 1, 62, 73, 65, 77, 1, 67, 72, 1, 78, 66, 63, 1, 76, 63, 62, 1, 66, 73, 79, 77]\n"
     ]
    }
   ],
   "source": [
    "A = \"e are two dogs in the red hous\".lower()\n",
    "A_num = []\n",
    "for search_letter in A:\n",
    "    A_num.append(char_to_int[search_letter])\n",
    "    \n",
    "print(A_num)"
   ]
  },
  {
   "cell_type": "code",
   "execution_count": 11,
   "metadata": {},
   "outputs": [
    {
     "name": "stdout",
     "output_type": "stream",
     "text": [
      "0 )\n",
      "63\n",
      "Character predicted: \t e\n",
      "Probability: \t\t 0.30949843\n",
      "Resulting phrase:\t e are two dogs in the red house\n",
      "1 )\n",
      "1\n",
      "Character predicted: \t  \n",
      "Probability: \t\t 0.23894297\n",
      "Resulting phrase:\t e are two dogs in the red hous \n",
      "2 )\n",
      "12\n",
      "Character predicted: \t ,\n",
      "Probability: \t\t 0.1082136\n",
      "Resulting phrase:\t e are two dogs in the red hous,\n",
      "3 )\n",
      "14\n",
      "Character predicted: \t .\n",
      "Probability: \t\t 0.08935467\n",
      "Resulting phrase:\t e are two dogs in the red hous.\n",
      "4 )\n",
      "0\n",
      "Character predicted: \t \n",
      "\n",
      "Probability: \t\t 0.045898724\n",
      "Resulting phrase:\t e are two dogs in the red hous\n",
      "\n"
     ]
    }
   ],
   "source": [
    "import operator\n",
    "\n",
    "x = numpy.reshape(A_num, (1, len(A_num), 1))\n",
    "x = x / float(n_vocab)\n",
    "prediction = model.predict(x, verbose=0)\n",
    "prediction_dict = {}\n",
    "\n",
    "for i in range(len(prediction[0])):\n",
    "    prediction_dict[i] = prediction[0][i]\n",
    "    \n",
    "prediction_dict = dict(sorted(prediction_dict.items(), key=operator.itemgetter(1), reverse = True))\n",
    "\n",
    "for i in range(5):\n",
    "    print(i,\")\")\n",
    "    print(list(prediction_dict.keys())[i])\n",
    "    print(\"Character predicted: \\t\",int_to_char[list(prediction_dict.keys())[i]])\n",
    "    print(\"Probability: \\t\\t\",list(prediction_dict.values())[i])\n",
    "    print(\"Resulting phrase:\\t\", A + int_to_char[list(prediction_dict.keys())[i]])"
   ]
  }
 ],
 "metadata": {
  "kernelspec": {
   "display_name": "Python 3",
   "language": "python",
   "name": "python3"
  },
  "language_info": {
   "codemirror_mode": {
    "name": "ipython",
    "version": 3
   },
   "file_extension": ".py",
   "mimetype": "text/x-python",
   "name": "python",
   "nbconvert_exporter": "python",
   "pygments_lexer": "ipython3",
   "version": "3.6.1"
  }
 },
 "nbformat": 4,
 "nbformat_minor": 2
}
