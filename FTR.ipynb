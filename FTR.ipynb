{
 "cells": [
  {
   "cell_type": "markdown",
   "metadata": {},
   "source": [
    "# 3F7 Full Technical Report\n",
    "\n",
    "**By Diego García Medina**\n",
    "\n",
    "The code below will improve on the arithmetic coding by using conditional probabilities, given by a pre-trained LSTM network on English language."
   ]
  },
  {
   "cell_type": "code",
   "execution_count": 1,
   "metadata": {},
   "outputs": [
    {
     "name": "stdout",
     "output_type": "stream",
     "text": [
      "The Project Gutenberg EBook of Pride and Prejudice, by Jane Austen\n",
      "\n",
      "This eBook is for the use of anyone anywhere at no cost and with\n",
      "almost no restrictions whatsoever.  You may copy it, give it away or\n",
      "re-use it under the terms of the Project Gutenberg License included\n",
      "with this eBook or onlin\n"
     ]
    }
   ],
   "source": [
    "f = open('hamlet.txt')\n",
    "hamlet = open('pride_and_prejudice.txt').read() + f.read()\n",
    "f.close()\n",
    "print(hamlet[:294])"
   ]
  },
  {
   "cell_type": "code",
   "execution_count": 2,
   "metadata": {
    "scrolled": true
   },
   "outputs": [
    {
     "name": "stdout",
     "output_type": "stream",
     "text": [
      "File length: 911214\n",
      "There are 86 characters in the alphabet\n",
      "The characters are the following:\n",
      "\n",
      "\n",
      "\n",
      " \n",
      "!\n",
      "\"\n",
      "#\n",
      "$\n",
      "%\n",
      "&\n",
      "'\n",
      "(\n",
      ")\n",
      "*\n",
      ",\n",
      "-\n",
      ".\n",
      "/\n",
      "0\n",
      "1\n",
      "2\n",
      "3\n",
      "4\n",
      "5\n",
      "6\n",
      "7\n",
      "8\n",
      "9\n",
      ":\n",
      ";\n",
      "?\n",
      "@\n",
      "A\n",
      "B\n",
      "C\n",
      "D\n",
      "E\n",
      "F\n",
      "G\n",
      "H\n",
      "I\n",
      "J\n",
      "K\n",
      "L\n",
      "M\n",
      "N\n",
      "O\n",
      "P\n",
      "Q\n",
      "R\n",
      "S\n",
      "T\n",
      "U\n",
      "V\n",
      "W\n",
      "X\n",
      "Y\n",
      "Z\n",
      "[\n",
      "]\n",
      "_\n",
      "a\n",
      "b\n",
      "c\n",
      "d\n",
      "e\n",
      "f\n",
      "g\n",
      "h\n",
      "i\n",
      "j\n",
      "k\n",
      "l\n",
      "m\n",
      "n\n",
      "o\n",
      "p\n",
      "q\n",
      "r\n",
      "s\n",
      "t\n",
      "u\n",
      "v\n",
      "w\n",
      "x\n",
      "y\n",
      "z\n",
      "|\n"
     ]
    }
   ],
   "source": [
    "from itertools import groupby\n",
    "frequencies = dict([(key, len(list(group))) for key, group in groupby(sorted(hamlet))])\n",
    "Nin = sum([frequencies[a] for a in frequencies])\n",
    "p = dict([(a,frequencies[a]/Nin) for a in frequencies])\n",
    "\n",
    "print(f'File length: {Nin}')\n",
    "print(\"There are {} characters in the alphabet\".format(len(frequencies)))\n",
    "print(\"The characters are the following:\\n\")\n",
    "for char in frequencies.keys():\n",
    "    print(char)"
   ]
  },
  {
   "cell_type": "code",
   "execution_count": null,
   "metadata": {
    "collapsed": true
   },
   "outputs": [],
   "source": [
    "method = 'conditional-arithmetic'\n",
    "filename = 'hamlet.txt'"
   ]
  },
  {
   "cell_type": "code",
   "execution_count": null,
   "metadata": {},
   "outputs": [
    {
     "name": "stderr",
     "output_type": "stream",
     "text": [
      "Using TensorFlow backend.\n",
      "C:\\Program Files\\Anaconda3\\lib\\site-packages\\h5py\\__init__.py:34: FutureWarning: Conversion of the second argument of issubdtype from `float` to `np.floating` is deprecated. In future, it will be treated as `np.float64 == np.dtype(float).type`.\n",
      "  from ._conv import register_converters as _register_converters\n"
     ]
    },
    {
     "name": "stdout",
     "output_type": "stream",
     "text": [
      "b'        HAMLET\\n\\n\\n        DRAMATIS PERSONAE\\n\\n\\nCLAUDIUS        king of Denmark. (KING CLAUDIUS:)\\n\\nHAMLET  son to the late, and nep'\n",
      "[0, 0, 0, 0, 1, 0, 1, 0, 0, 1, 0, 0, 1, 0, 0, 1, 0, 0, 1, 1, 0, 0, 1, 0, 1, 0, 1, 0, 1, 1, 1, 0, 0, 1, 1, 0, 1, 0, 1, 1, 1, 1, 0, 0, 1, 1, 1, 0, 1, 0, 0, 0, 0, 0, 1, 0, 0, 1, 0, 1, 1, 0, 1, 1, 1, 1, 1, 1, 0, 1, 1, 0, 0, 1, 1, 0, 1, 0, 1, 1, 0, 0, 1, 1, 1, 0, 0, 0, 0, 0, 0, 0, 1, 1, 1, 1, 0, 1, 1, 0]\n",
      "b'        HAMLET\\n\\n\\n        DRAMATIS PERSONAE\\n\\n\\nCLAUDIUS        king of Denmark. (KING CLAUDIUS:)\\n\\nHAMLET  son to the late, and nep'\n",
      "[0, 0, 0, 0, 1, 0, 1, 0, 0, 1, 0, 0, 1, 0, 0, 1, 0, 0, 1, 1, 0, 0, 1, 0, 1, 0, 1, 0, 1, 1, 1, 0, 0, 1, 1, 0, 1, 0, 1, 1, 1, 1, 0, 0, 1, 1, 1, 0, 1, 0, 0, 0, 0, 0, 1, 0, 0, 1, 0, 1, 1, 0, 1, 1, 1, 1, 1, 1, 0, 1, 1, 0, 0, 1, 1, 0, 1, 0, 1, 1, 0, 0, 1, 1, 1, 0, 0, 0, 0, 0, 0, 0, 1, 1, 1, 1, 0, 1, 1, 0]\n",
      "Arithmetic encoded 4%    \r"
     ]
    }
   ],
   "source": [
    "from camzip import camzip\n",
    "from camunzip import camunzip\n",
    "camzip(method, filename)\n",
    "camunzip(filename + '.cz' + method[0])"
   ]
  },
  {
   "cell_type": "code",
   "execution_count": null,
   "metadata": {},
   "outputs": [],
   "source": [
    "Nin = stat(filename).st_size\n",
    "print(f'Length of original file: {Nin} bytes')\n",
    "Nout = stat(filename + '.cz' + method[0]).st_size\n",
    "print(f'Length of compressed file: {Nout} bytes')\n",
    "print(f'Compression ratio (rateless): {Nout/Nin}')\n",
    "print(f'Compression rate: {8.0*Nout/Nin} bits/byte')\n",
    "with open(filename + '.czp', 'r') as fp:\n",
    "    freq = load(fp)\n",
    "pf = dict([(a, freq[a]/Nin) for a in freq])\n",
    "print(f'Entropy: {H(pf)} bits per symbol')\n",
    "if cmp(filename,filename+'.cuz'):\n",
    "    print('The two files are the same')\n",
    "else:\n",
    "    print('The files are different')"
   ]
  }
 ],
 "metadata": {
  "kernelspec": {
   "display_name": "Python 3",
   "language": "python",
   "name": "python3"
  },
  "language_info": {
   "codemirror_mode": {
    "name": "ipython",
    "version": 3
   },
   "file_extension": ".py",
   "mimetype": "text/x-python",
   "name": "python",
   "nbconvert_exporter": "python",
   "pygments_lexer": "ipython3",
   "version": "3.6.1"
  }
 },
 "nbformat": 4,
 "nbformat_minor": 2
}
